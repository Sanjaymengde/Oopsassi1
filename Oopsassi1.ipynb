{
 "cells": [
  {
   "cell_type": "markdown",
   "id": "cd1c7f7e-3873-44b5-bf95-2789a4e14305",
   "metadata": {},
   "source": [
    "Q1. What is Abstraction in OOps? Explain with an example."
   ]
  },
  {
   "cell_type": "markdown",
   "id": "4090432b-32e0-4cff-a2b7-6a0ce2819fe7",
   "metadata": {},
   "source": [
    "Abstraction in object-oriented programming (OOP) is a key concept that involves hiding the internal details of an application and only showing the user the information that is necessary"
   ]
  },
  {
   "cell_type": "code",
   "execution_count": 1,
   "id": "7f9cbc19-7724-4586-bc53-45fc05120ac3",
   "metadata": {},
   "outputs": [
    {
     "name": "stdout",
     "output_type": "stream",
     "text": [
      "Car is starting with an ignition key.\n",
      "Car is stopping by applying the brakes.\n",
      "Bike is starting with a kickstart.\n",
      "Bike is stopping by applying the brakes.\n",
      "Truck is starting with a push button.\n",
      "Truck is stopping by applying air brakes.\n"
     ]
    }
   ],
   "source": [
    "from abc import ABC, abstractmethod\n",
    "\n",
    "class Vehicle(ABC):\n",
    "    @abstractmethod\n",
    "    def start(self):\n",
    "        pass\n",
    "\n",
    "    @abstractmethod\n",
    "    def stop(self):\n",
    "        pass\n",
    "class Car(Vehicle):\n",
    "    def start(self):\n",
    "        print(\"Car is starting with an ignition key.\")\n",
    "\n",
    "    def stop(self):\n",
    "        print(\"Car is stopping by applying the brakes.\")\n",
    "\n",
    "class Bike(Vehicle):\n",
    "    def start(self):\n",
    "        print(\"Bike is starting with a kickstart.\")\n",
    "    \n",
    "    def stop(self):\n",
    "        print(\"Bike is stopping by applying the brakes.\")\n",
    "class Truck(Vehicle):\n",
    "    def start(self):\n",
    "        print(\"Truck is starting with a push button.\")\n",
    "\n",
    "    def stop(self):\n",
    "        print(\"Truck is stopping by applying air brakes.\")\n",
    "\n",
    "def vehicle_action(vehicle: Vehicle):\n",
    "    vehicle.start()\n",
    "    vehicle.stop()\n",
    "\n",
    "car = Car()\n",
    "bike = Bike()\n",
    "truck = Truck()\n",
    "\n",
    "vehicle_action(car)   # \"Car is starting with an ignition key.\"\n",
    "vehicle_action(bike)  # \"Bike is starting with a kickstart.\"\n",
    "vehicle_action(truck) # \"Truck is starting with a push button.\""
   ]
  },
  {
   "cell_type": "markdown",
   "id": "263b73a5-6f8f-4344-b3d9-884e04706d9d",
   "metadata": {},
   "source": [
    "Q2. Differentiate between Abstraction and Encapsulation. Explain with an example."
   ]
  },
  {
   "cell_type": "markdown",
   "id": "0d3fb3b0-76d5-4c0a-8bdc-da0add68f93a",
   "metadata": {},
   "source": [
    "abstraction focuses on what an object does, while encapsulation focuses on how an object's data is accessed and manipulated: "
   ]
  },
  {
   "cell_type": "code",
   "execution_count": 2,
   "id": "25ff4bdb-d9fd-49ea-a6b4-a99ef71769ee",
   "metadata": {},
   "outputs": [
    {
     "name": "stdout",
     "output_type": "stream",
     "text": [
      "Phone is turning on.\n",
      "Phone is turning off.\n",
      "Laptop is booting up.\n",
      "Laptop is shutting down.\n"
     ]
    }
   ],
   "source": [
    "from abc import ABC, abstractmethod\n",
    "\n",
    "class Device(ABC):\n",
    "    @abstractmethod\n",
    "    def turn_on(self):\n",
    "        pass\n",
    "    \n",
    "    @abstractmethod\n",
    "    def turn_off(self):\n",
    "        pass\n",
    "\n",
    "class Phone(Device):\n",
    "    def turn_on(self):\n",
    "        print(\"Phone is turning on.\")\n",
    "\n",
    "    def turn_off(self):\n",
    "        print(\"Phone is turning off.\")\n",
    "\n",
    "class Laptop(Device):\n",
    "    def turn_on(self):\n",
    "        print(\"Laptop is booting up.\")\n",
    "\n",
    "    def turn_off(self):\n",
    "        print(\"Laptop is shutting down.\")\n",
    "\n",
    "def operate_device(device: Device):\n",
    "    device.turn_on()\n",
    "    device.turn_off()\n",
    "\n",
    "phone = Phone()\n",
    "laptop = Laptop()\n",
    "\n",
    "operate_device(phone)    # \"Phone is turning on.\" \"Phone is turning off.\"\n",
    "operate_device(laptop)   # \"Laptop is booting up.\" \"Laptop is shutting down.\""
   ]
  },
  {
   "cell_type": "markdown",
   "id": "5b90506d-797f-4ed1-9af7-ac968499c36b",
   "metadata": {},
   "source": [
    "Q3. What is abc module in python? Why is it used?"
   ]
  },
  {
   "cell_type": "markdown",
   "id": "8ea3b92d-6693-4a30-a384-b594730fc727",
   "metadata": {},
   "source": [
    "The abc module in Python stands for Abstract Base Classes. It is a standard library module that provides the tools to define abstract base classes, which are classes that cannot be instantiated directly and serve as a blueprint for other classes."
   ]
  },
  {
   "cell_type": "markdown",
   "id": "bcebfb9f-1912-4b7d-a281-71464f691685",
   "metadata": {},
   "source": [
    "The abc module is used to define abstract classes in Python. Abstract classes are classes that cannot be instantiated on their own and are designed to be subclassed. They provide a common interface for other classes, ensuring that certain methods are implemented in derived classes. This allows for polymorphism, enforcement of method signatures, and more structured code."
   ]
  },
  {
   "cell_type": "markdown",
   "id": "a7fd4902-8dae-4171-8b50-559f00d32e7e",
   "metadata": {},
   "source": [
    "Q4. How can we achieve data abstraction?"
   ]
  },
  {
   "cell_type": "markdown",
   "id": "8f8ff57b-8af8-4802-804a-147fd1d421da",
   "metadata": {},
   "source": [
    "\n",
    "How to Achieve Data Abstraction in Python\n",
    "Data abstraction in Object-Oriented Programming (OOP) refers to the concept of hiding the internal details of an object and exposing only the necessary and relevant information to the outside world. This is done to ensure that the implementation details are not exposed and the user interacts with the object through a simplified and controlled interface"
   ]
  },
  {
   "cell_type": "markdown",
   "id": "43aa9a2e-7b57-435e-b6e0-5e513e9cd514",
   "metadata": {},
   "source": [
    "Q5. Can we create an instance of an abstract class? Explain your answer."
   ]
  },
  {
   "cell_type": "markdown",
   "id": "69b4b066-29a4-4e4f-bd90-d741dc2d296c",
   "metadata": {},
   "source": [
    "An abstract class in Python is a class that is defined using the abc (Abstract Base Class) module. An abstract class typically contains one or more abstract methods, which are methods that are declared but not implemented in the abstract class. These abstract methods must be implemented by any concrete subclass (a subclass that can be instantiated)"
   ]
  },
  {
   "cell_type": "code",
   "execution_count": null,
   "id": "98f1b641-bec3-4e20-b9c8-3a8c229c23e1",
   "metadata": {},
   "outputs": [],
   "source": []
  }
 ],
 "metadata": {
  "kernelspec": {
   "display_name": "Python 3 (ipykernel)",
   "language": "python",
   "name": "python3"
  },
  "language_info": {
   "codemirror_mode": {
    "name": "ipython",
    "version": 3
   },
   "file_extension": ".py",
   "mimetype": "text/x-python",
   "name": "python",
   "nbconvert_exporter": "python",
   "pygments_lexer": "ipython3",
   "version": "3.13.0"
  }
 },
 "nbformat": 4,
 "nbformat_minor": 5
}
